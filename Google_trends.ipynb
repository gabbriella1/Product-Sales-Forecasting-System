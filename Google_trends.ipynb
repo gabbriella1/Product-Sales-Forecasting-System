{
 "cells": [
  {
   "cell_type": "code",
   "execution_count": 19,
   "id": "edd5f300",
   "metadata": {},
   "outputs": [],
   "source": [
    "from pytrends.request import TrendReq\n",
    "import pandas as pd\n",
    "\n",
    "def get_trends(keyword, start='2018-01-01', end='2025-01-01', country='NL'):\n",
    "    pytrends = TrendReq(hl='en-US', tz=360)\n",
    "    timeframe = f'{start} {end}'\n",
    "    pytrends.build_payload([keyword], cat=0, timeframe=timeframe, geo=country)\n",
    "    \n",
    "    df_trends = pytrends.interest_over_time()\n",
    "    df_trends = df_trends.drop(columns=[\"isPartial\"])\n",
    "    df_trends.columns = [\"google_trends\"]\n",
    "    return df_trends"
   ]
  },
  {
   "cell_type": "code",
   "execution_count": 20,
   "id": "e68ef00a",
   "metadata": {},
   "outputs": [],
   "source": [
    "trends = get_trends(\"water bottle\") #get for different products\n",
    "trends.to_csv(\"trends_water_bottle.csv\")\n",
    "\n",
    "trends = pd.read_csv(\"trends_water_bottle.csv\", index_col=0, parse_dates=True)\n",
    "trends = trends.resample('D').interpolate()  \n"
   ]
  },
  {
   "cell_type": "code",
   "execution_count": 22,
   "id": "13143afd",
   "metadata": {},
   "outputs": [
    {
     "name": "stdout",
     "output_type": "stream",
     "text": [
      "            google_trends\n",
      "date                     \n",
      "2018-01-01             31\n",
      "2018-02-01             29\n",
      "2018-03-01             27\n",
      "2018-04-01             35\n",
      "2018-05-01             34\n",
      "...                   ...\n",
      "2024-09-01             97\n",
      "2024-10-01             87\n",
      "2024-11-01             95\n",
      "2024-12-01             87\n",
      "2025-01-01             92\n",
      "\n",
      "[85 rows x 1 columns]\n"
     ]
    }
   ],
   "source": [
    "trends = get_trends(\"water bottle\")\n",
    "print(trends.head(100)) \n"
   ]
  },
  {
   "cell_type": "markdown",
   "id": "6f1d63e2",
   "metadata": {},
   "source": [
    "#meaning of the values\n",
    "| Value   | Meaning                                                                                            |\n",
    "| ------- | -------------------------------------------------------------------------------------------------- |\n",
    "| **100** | Peak popularity — the **highest point** of search interest during the selected time and region.    |\n",
    "| **50**  | The term was **half as popular** as its peak.                                                      |\n",
    "| **0**   | Not enough data — the term was either **not searched at all** or **below a measurable threshold**. |\n"
   ]
  }
 ],
 "metadata": {
  "kernelspec": {
   "display_name": "Python 3 (ipykernel)",
   "language": "python",
   "name": "python3"
  },
  "language_info": {
   "codemirror_mode": {
    "name": "ipython",
    "version": 3
   },
   "file_extension": ".py",
   "mimetype": "text/x-python",
   "name": "python",
   "nbconvert_exporter": "python",
   "pygments_lexer": "ipython3",
   "version": "3.11.5"
  }
 },
 "nbformat": 4,
 "nbformat_minor": 5
}
